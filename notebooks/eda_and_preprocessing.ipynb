{
 "cells": [
  {
   "cell_type": "code",
   "execution_count": null,
   "id": "36bf0ae4",
   "metadata": {},
   "outputs": [],
   "source": [
    "import pandas as pd\n",
    "import numpy as np\n",
    "import matplotlib.pyplot as plt\n",
    "import seaborn as sns\n",
    "import re\n",
    "from collections import Counter"
   ]
  },
  {
   "cell_type": "code",
   "execution_count": null,
   "id": "bb60193f",
   "metadata": {},
   "outputs": [],
   "source": [
    "plt.style.use('ggplot')\n",
    "%matplotlib inline"
   ]
  },
  {
   "cell_type": "code",
   "execution_count": null,
   "id": "55a335cc",
   "metadata": {},
   "outputs": [],
   "source": [
    "df.info(verbose=True, show_counts=True)\n",
    "\n",
    "missing = df.isna().sum().sort_values(ascending=False)\n",
    "missing[missing > 0].plot(kind='barh', title='Missing Values by Column')\n",
    "plt.show()"
   ]
  },
  {
   "cell_type": "code",
   "execution_count": null,
   "id": "c269a8e4",
   "metadata": {},
   "outputs": [],
   "source": [
    "product_counts = df['Product'].value_counts()\n",
    "\n",
    "plt.figure(figsize=(10,6))\n",
    "product_counts.plot(kind='barh')\n",
    "plt.title('Complaints by Product Category')\n",
    "plt.xlabel('Count')\n",
    "plt.ylabel('Product')\n",
    "plt.show()"
   ]
  },
  {
   "cell_type": "code",
   "execution_count": null,
   "id": "4f2e4919",
   "metadata": {},
   "outputs": [],
   "source": [
    "target_products = [\n",
    "    'Credit card', \n",
    "    'Personal loan', \n",
    "    'Payday loan',  # Often used for BNPL\n",
    "    'Money transfer', \n",
    "    'Bank account or service'  # Will filter to savings accounts later\n",
    "]\n",
    "\n",
    "filtered = df[df['Product'].isin(target_products)].copy()\n",
    "print(f\"Filtered shape: {filtered.shape}\")"
   ]
  },
  {
   "cell_type": "code",
   "execution_count": null,
   "id": "29916a83",
   "metadata": {},
   "outputs": [],
   "source": [
    "has_narrative = filtered['Consumer complaint narrative'].notna()\n",
    "print(f\"Complaints with narratives: {has_narrative.sum()} ({has_narrative.mean():.1%})\")"
   ]
  },
  {
   "cell_type": "code",
   "execution_count": null,
   "id": "c0c48c38",
   "metadata": {},
   "outputs": [],
   "source": [
    "filtered = filtered[has_narrative].copy()\n",
    "print(f\"Final shape with narratives: {filtered.shape}\")\n"
   ]
  },
  {
   "cell_type": "code",
   "execution_count": null,
   "id": "11e8d04e",
   "metadata": {},
   "outputs": [],
   "source": [
    "filtered['narrative_length'] = filtered['Consumer complaint narrative'].str.split().str.len()\n",
    "\n",
    "plt.figure(figsize=(10,5))\n",
    "sns.histplot(filtered['narrative_length'], bins=50)\n",
    "plt.axvline(filtered['narrative_length'].median(), color='k', linestyle='--')\n",
    "plt.title('Distribution of Complaint Narrative Lengths (Words)')\n",
    "plt.xlabel('Word Count')\n",
    "plt.show()\n"
   ]
  },
  {
   "cell_type": "code",
   "execution_count": null,
   "id": "1ccfee9c",
   "metadata": {},
   "outputs": [],
   "source": [
    "filtered['narrative_length'].describe()\n"
   ]
  },
  {
   "cell_type": "code",
   "execution_count": null,
   "id": "ba1586df",
   "metadata": {},
   "outputs": [],
   "source": [
    "def clean_complaint_text(text):\n",
    "    \"\"\"Process complaint narratives for embedding\"\"\"\n",
    "    if not isinstance(text, str):\n",
    "        return \"\"\n",
    "    \n",
    "    \n",
    "    patterns_to_remove = [\n",
    "        r'XX/XX/\\d{4}',  \n",
    "        r'\\d{10,}',       \n",
    "        r'\\b(?:dear|sincerely|regards|thank you)\\b[^\\.,;:!?]*[.,;:!?]', \n",
    "        r'[^\\w\\s.,;:!?]'  \n",
    "    \n",
    "    text = text.lower()\n",
    "    for pattern in patterns_to_remove:\n",
    "        text = re.sub(pattern, '', text)\n",
    "    \n",
    "    text = ' '.join(text.split())\n",
    "    \n",
    "    return text"
   ]
  },
  {
   "cell_type": "code",
   "execution_count": null,
   "id": "c062faba",
   "metadata": {},
   "outputs": [],
   "source": [
    "filtered['clean_text'] = filtered['Consumer complaint narrative'].progress_apply(clean_complaint_text)\n",
    "\n",
    "print(\"Original:\\n\", filtered.iloc[0]['Consumer complaint narrative'])\n",
    "print(\"\\nCleaned:\\n\", filtered.iloc[0]['clean_text'])\n",
    "\n",
    "filtered.loc[filtered['Product'] == 'Bank account or service', 'Product'] = 'Savings account'"
   ]
  },
  {
   "cell_type": "code",
   "execution_count": null,
   "id": "ec9844ce",
   "metadata": {},
   "outputs": [],
   "source": [
    "output_path = '../data/processed/filtered_complaints.csv'\n",
    "filtered.to_csv(output_path, index=False)\n",
    "print(f\"Saved processed data to {output_path}\")\n",
    "\n",
    "# %%\n",
    "# Final dataset summary\n",
    "print(\"=== Final Dataset Summary ===\")\n",
    "print(f\"Records: {len(filtered)}\")\n",
    "print(\"\\nProduct Distribution:\")\n",
    "print(filtered['Product'].value_counts())\n",
    "print(\"\\nText Length Stats:\")\n",
    "print(filtered['narrative_length'].describe())"
   ]
  }
 ],
 "metadata": {
  "kernelspec": {
   "display_name": "venv",
   "language": "python",
   "name": "python3"
  },
  "language_info": {
   "name": "python",
   "version": "3.13.3"
  }
 },
 "nbformat": 4,
 "nbformat_minor": 5
}
